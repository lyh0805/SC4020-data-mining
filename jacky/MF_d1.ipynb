{
 "cells": [
  {
   "cell_type": "markdown",
   "id": "6de1846f",
   "metadata": {},
   "source": [
    "## Dataset 1: MovieLens 100K (Explicit Ratings)\n",
    "\n",
    "### 🔹 Setup Summary\n",
    "- **Data type:** Explicit ratings (1–5 stars)\n",
    "- **Filtering:** \n",
    "    - users ≥ 20 ratings\n",
    "    - movies ≥ 5 ratings\n",
    "- **Data Splitting:** Training/Test split using u2.base (train) & u2.test (test), 80/20 proportion by timestamp or random selection\n",
    "- **Model:** Matrix Factorization (MF) for Collaborative Filtering\n",
    "- **Optimization Methods Tested:** Stochastic Gradient Descent (SGD)\n",
    "- **Parameters Tested:** \n",
    "    - latent factors = 20, 50, 100\n",
    "    - regularization λ = 0.01, 0.02, 0.05\n",
    "    - learning rate (for SGD) = 0.001, 0.002, 0.005\n",
    "    - iterations = 50, 100\n",
    "- **Evaluation Metrics:** RMSE, MAE (for prediction accuracy), Precision@5, Recall@5, Precision@10, Recall@10, NDCG@10"
   ]
  },
  {
   "cell_type": "code",
   "execution_count": 4,
   "id": "f1a897a2",
   "metadata": {},
   "outputs": [],
   "source": [
    "# Load MovieLens 100K dataset\n",
    "import pandas as pd\n",
    "\n",
    "train = pd.read_csv('data/ml-100k/u2.base', sep='\\t',\n",
    "                    names=['user_id','item_id','rating','timestamp'])\n",
    "test  = pd.read_csv('data/ml-100k/u2.test', sep='\\t',\n",
    "                    names=['user_id','item_id','rating','timestamp'])"
   ]
  },
  {
   "cell_type": "code",
   "execution_count": 5,
   "id": "13cb0311",
   "metadata": {},
   "outputs": [],
   "source": [
    "# --- Filtering ---\n",
    "# Keep users with at least 20 ratings\n",
    "user_counts = train['user_id'].value_counts()\n",
    "train = train[train['user_id'].isin(user_counts[user_counts >= 20].index)]\n",
    "\n",
    "# Keep items with at least 5 ratings\n",
    "item_counts = train['item_id'].value_counts()\n",
    "train = train[train['item_id'].isin(item_counts[item_counts >= 5].index)]\n",
    "\n",
    "# Ensure test set only contains filtered users/items\n",
    "test = test[test['user_id'].isin(train['user_id'].unique())]\n",
    "test = test[test['item_id'].isin(train['item_id'].unique())]"
   ]
  },
  {
   "cell_type": "code",
   "execution_count": 6,
   "id": "466ae9e7",
   "metadata": {},
   "outputs": [
    {
     "name": "stdout",
     "output_type": "stream",
     "text": [
      "Train set shape: (77487, 4)\n",
      "Test set shape: (18892, 4)\n",
      "\n",
      "Train set preview:\n"
     ]
    },
    {
     "data": {
      "text/html": [
       "<div>\n",
       "<style scoped>\n",
       "    .dataframe tbody tr th:only-of-type {\n",
       "        vertical-align: middle;\n",
       "    }\n",
       "\n",
       "    .dataframe tbody tr th {\n",
       "        vertical-align: top;\n",
       "    }\n",
       "\n",
       "    .dataframe thead th {\n",
       "        text-align: right;\n",
       "    }\n",
       "</style>\n",
       "<table border=\"1\" class=\"dataframe\">\n",
       "  <thead>\n",
       "    <tr style=\"text-align: right;\">\n",
       "      <th></th>\n",
       "      <th>user_id</th>\n",
       "      <th>item_id</th>\n",
       "      <th>rating</th>\n",
       "      <th>timestamp</th>\n",
       "    </tr>\n",
       "  </thead>\n",
       "  <tbody>\n",
       "    <tr>\n",
       "      <th>0</th>\n",
       "      <td>1</td>\n",
       "      <td>3</td>\n",
       "      <td>4</td>\n",
       "      <td>878542960</td>\n",
       "    </tr>\n",
       "    <tr>\n",
       "      <th>1</th>\n",
       "      <td>1</td>\n",
       "      <td>4</td>\n",
       "      <td>3</td>\n",
       "      <td>876893119</td>\n",
       "    </tr>\n",
       "    <tr>\n",
       "      <th>2</th>\n",
       "      <td>1</td>\n",
       "      <td>5</td>\n",
       "      <td>3</td>\n",
       "      <td>889751712</td>\n",
       "    </tr>\n",
       "    <tr>\n",
       "      <th>3</th>\n",
       "      <td>1</td>\n",
       "      <td>6</td>\n",
       "      <td>5</td>\n",
       "      <td>887431973</td>\n",
       "    </tr>\n",
       "    <tr>\n",
       "      <th>4</th>\n",
       "      <td>1</td>\n",
       "      <td>7</td>\n",
       "      <td>4</td>\n",
       "      <td>875071561</td>\n",
       "    </tr>\n",
       "  </tbody>\n",
       "</table>\n",
       "</div>"
      ],
      "text/plain": [
       "   user_id  item_id  rating  timestamp\n",
       "0        1        3       4  878542960\n",
       "1        1        4       3  876893119\n",
       "2        1        5       3  889751712\n",
       "3        1        6       5  887431973\n",
       "4        1        7       4  875071561"
      ]
     },
     "metadata": {},
     "output_type": "display_data"
    },
    {
     "name": "stdout",
     "output_type": "stream",
     "text": [
      "\n",
      "Test set preview:\n"
     ]
    },
    {
     "data": {
      "text/html": [
       "<div>\n",
       "<style scoped>\n",
       "    .dataframe tbody tr th:only-of-type {\n",
       "        vertical-align: middle;\n",
       "    }\n",
       "\n",
       "    .dataframe tbody tr th {\n",
       "        vertical-align: top;\n",
       "    }\n",
       "\n",
       "    .dataframe thead th {\n",
       "        text-align: right;\n",
       "    }\n",
       "</style>\n",
       "<table border=\"1\" class=\"dataframe\">\n",
       "  <thead>\n",
       "    <tr style=\"text-align: right;\">\n",
       "      <th></th>\n",
       "      <th>user_id</th>\n",
       "      <th>item_id</th>\n",
       "      <th>rating</th>\n",
       "      <th>timestamp</th>\n",
       "    </tr>\n",
       "  </thead>\n",
       "  <tbody>\n",
       "    <tr>\n",
       "      <th>0</th>\n",
       "      <td>1</td>\n",
       "      <td>1</td>\n",
       "      <td>5</td>\n",
       "      <td>874965758</td>\n",
       "    </tr>\n",
       "    <tr>\n",
       "      <th>1</th>\n",
       "      <td>1</td>\n",
       "      <td>2</td>\n",
       "      <td>3</td>\n",
       "      <td>876893171</td>\n",
       "    </tr>\n",
       "    <tr>\n",
       "      <th>2</th>\n",
       "      <td>1</td>\n",
       "      <td>8</td>\n",
       "      <td>1</td>\n",
       "      <td>875072484</td>\n",
       "    </tr>\n",
       "    <tr>\n",
       "      <th>3</th>\n",
       "      <td>1</td>\n",
       "      <td>9</td>\n",
       "      <td>5</td>\n",
       "      <td>878543541</td>\n",
       "    </tr>\n",
       "    <tr>\n",
       "      <th>4</th>\n",
       "      <td>1</td>\n",
       "      <td>21</td>\n",
       "      <td>1</td>\n",
       "      <td>878542772</td>\n",
       "    </tr>\n",
       "  </tbody>\n",
       "</table>\n",
       "</div>"
      ],
      "text/plain": [
       "   user_id  item_id  rating  timestamp\n",
       "0        1        1       5  874965758\n",
       "1        1        2       3  876893171\n",
       "2        1        8       1  875072484\n",
       "3        1        9       5  878543541\n",
       "4        1       21       1  878542772"
      ]
     },
     "metadata": {},
     "output_type": "display_data"
    }
   ],
   "source": [
    "# Print dataset shapes\n",
    "print(f\"Train set shape: {train.shape}\")\n",
    "print(f\"Test set shape: {test.shape}\\n\")\n",
    "\n",
    "# Preview first few rows\n",
    "print(\"Train set preview:\")\n",
    "display(train.head())\n",
    "\n",
    "print(\"\\nTest set preview:\")\n",
    "display(test.head())"
   ]
  },
  {
   "cell_type": "code",
   "execution_count": 7,
   "id": "22b56237",
   "metadata": {},
   "outputs": [
    {
     "name": "stdout",
     "output_type": "stream",
     "text": [
      "Rating Statistics:\n",
      "count    77487.000000\n",
      "mean         3.533483\n",
      "std          1.118780\n",
      "min          1.000000\n",
      "25%          3.000000\n",
      "50%          4.000000\n",
      "75%          4.000000\n",
      "max          5.000000\n",
      "Name: rating, dtype: float64\n"
     ]
    }
   ],
   "source": [
    "# Rating statistics\n",
    "rating_stats = train['rating'].describe()\n",
    "\n",
    "print(\"Rating Statistics:\")\n",
    "print(rating_stats[['count', 'mean', 'std', 'min', '25%', '50%', '75%', 'max']])"
   ]
  },
  {
   "cell_type": "code",
   "execution_count": 8,
   "id": "30ad5f3f",
   "metadata": {},
   "outputs": [
    {
     "name": "stdout",
     "output_type": "stream",
     "text": [
      "MovieLens 100K Dataset Info:\n",
      "\n",
      "943 users\n",
      "1682 items\n",
      "100000 ratings\n",
      "\n"
     ]
    }
   ],
   "source": [
    "# Display dataset information\n",
    "info_path = 'data/ml-100k/u.info'\n",
    "\n",
    "with open(info_path, 'r') as f:\n",
    "    info = f.read()\n",
    "\n",
    "print(\"MovieLens 100K Dataset Info:\\n\")\n",
    "print(info)"
   ]
  },
  {
   "cell_type": "code",
   "execution_count": 9,
   "id": "6dd4c39f",
   "metadata": {},
   "outputs": [
    {
     "data": {
      "text/html": [
       "<div>\n",
       "<style scoped>\n",
       "    .dataframe tbody tr th:only-of-type {\n",
       "        vertical-align: middle;\n",
       "    }\n",
       "\n",
       "    .dataframe tbody tr th {\n",
       "        vertical-align: top;\n",
       "    }\n",
       "\n",
       "    .dataframe thead th {\n",
       "        text-align: right;\n",
       "    }\n",
       "</style>\n",
       "<table border=\"1\" class=\"dataframe\">\n",
       "  <thead>\n",
       "    <tr style=\"text-align: right;\">\n",
       "      <th></th>\n",
       "      <th>movie_id</th>\n",
       "      <th>title</th>\n",
       "      <th>release_date</th>\n",
       "      <th>video_release_date</th>\n",
       "      <th>IMDb_URL</th>\n",
       "      <th>unknown</th>\n",
       "      <th>Action</th>\n",
       "      <th>Adventure</th>\n",
       "      <th>Animation</th>\n",
       "      <th>Children's</th>\n",
       "      <th>...</th>\n",
       "      <th>Fantasy</th>\n",
       "      <th>Film-Noir</th>\n",
       "      <th>Horror</th>\n",
       "      <th>Musical</th>\n",
       "      <th>Mystery</th>\n",
       "      <th>Romance</th>\n",
       "      <th>Sci-Fi</th>\n",
       "      <th>Thriller</th>\n",
       "      <th>War</th>\n",
       "      <th>Western</th>\n",
       "    </tr>\n",
       "  </thead>\n",
       "  <tbody>\n",
       "    <tr>\n",
       "      <th>0</th>\n",
       "      <td>1</td>\n",
       "      <td>Toy Story (1995)</td>\n",
       "      <td>01-Jan-1995</td>\n",
       "      <td>NaN</td>\n",
       "      <td>http://us.imdb.com/M/title-exact?Toy%20Story%2...</td>\n",
       "      <td>0</td>\n",
       "      <td>0</td>\n",
       "      <td>0</td>\n",
       "      <td>1</td>\n",
       "      <td>1</td>\n",
       "      <td>...</td>\n",
       "      <td>0</td>\n",
       "      <td>0</td>\n",
       "      <td>0</td>\n",
       "      <td>0</td>\n",
       "      <td>0</td>\n",
       "      <td>0</td>\n",
       "      <td>0</td>\n",
       "      <td>0</td>\n",
       "      <td>0</td>\n",
       "      <td>0</td>\n",
       "    </tr>\n",
       "    <tr>\n",
       "      <th>1</th>\n",
       "      <td>2</td>\n",
       "      <td>GoldenEye (1995)</td>\n",
       "      <td>01-Jan-1995</td>\n",
       "      <td>NaN</td>\n",
       "      <td>http://us.imdb.com/M/title-exact?GoldenEye%20(...</td>\n",
       "      <td>0</td>\n",
       "      <td>1</td>\n",
       "      <td>1</td>\n",
       "      <td>0</td>\n",
       "      <td>0</td>\n",
       "      <td>...</td>\n",
       "      <td>0</td>\n",
       "      <td>0</td>\n",
       "      <td>0</td>\n",
       "      <td>0</td>\n",
       "      <td>0</td>\n",
       "      <td>0</td>\n",
       "      <td>0</td>\n",
       "      <td>1</td>\n",
       "      <td>0</td>\n",
       "      <td>0</td>\n",
       "    </tr>\n",
       "    <tr>\n",
       "      <th>2</th>\n",
       "      <td>3</td>\n",
       "      <td>Four Rooms (1995)</td>\n",
       "      <td>01-Jan-1995</td>\n",
       "      <td>NaN</td>\n",
       "      <td>http://us.imdb.com/M/title-exact?Four%20Rooms%...</td>\n",
       "      <td>0</td>\n",
       "      <td>0</td>\n",
       "      <td>0</td>\n",
       "      <td>0</td>\n",
       "      <td>0</td>\n",
       "      <td>...</td>\n",
       "      <td>0</td>\n",
       "      <td>0</td>\n",
       "      <td>0</td>\n",
       "      <td>0</td>\n",
       "      <td>0</td>\n",
       "      <td>0</td>\n",
       "      <td>0</td>\n",
       "      <td>1</td>\n",
       "      <td>0</td>\n",
       "      <td>0</td>\n",
       "    </tr>\n",
       "    <tr>\n",
       "      <th>3</th>\n",
       "      <td>4</td>\n",
       "      <td>Get Shorty (1995)</td>\n",
       "      <td>01-Jan-1995</td>\n",
       "      <td>NaN</td>\n",
       "      <td>http://us.imdb.com/M/title-exact?Get%20Shorty%...</td>\n",
       "      <td>0</td>\n",
       "      <td>1</td>\n",
       "      <td>0</td>\n",
       "      <td>0</td>\n",
       "      <td>0</td>\n",
       "      <td>...</td>\n",
       "      <td>0</td>\n",
       "      <td>0</td>\n",
       "      <td>0</td>\n",
       "      <td>0</td>\n",
       "      <td>0</td>\n",
       "      <td>0</td>\n",
       "      <td>0</td>\n",
       "      <td>0</td>\n",
       "      <td>0</td>\n",
       "      <td>0</td>\n",
       "    </tr>\n",
       "    <tr>\n",
       "      <th>4</th>\n",
       "      <td>5</td>\n",
       "      <td>Copycat (1995)</td>\n",
       "      <td>01-Jan-1995</td>\n",
       "      <td>NaN</td>\n",
       "      <td>http://us.imdb.com/M/title-exact?Copycat%20(1995)</td>\n",
       "      <td>0</td>\n",
       "      <td>0</td>\n",
       "      <td>0</td>\n",
       "      <td>0</td>\n",
       "      <td>0</td>\n",
       "      <td>...</td>\n",
       "      <td>0</td>\n",
       "      <td>0</td>\n",
       "      <td>0</td>\n",
       "      <td>0</td>\n",
       "      <td>0</td>\n",
       "      <td>0</td>\n",
       "      <td>0</td>\n",
       "      <td>1</td>\n",
       "      <td>0</td>\n",
       "      <td>0</td>\n",
       "    </tr>\n",
       "  </tbody>\n",
       "</table>\n",
       "<p>5 rows × 24 columns</p>\n",
       "</div>"
      ],
      "text/plain": [
       "   movie_id              title release_date  video_release_date  \\\n",
       "0         1   Toy Story (1995)  01-Jan-1995                 NaN   \n",
       "1         2   GoldenEye (1995)  01-Jan-1995                 NaN   \n",
       "2         3  Four Rooms (1995)  01-Jan-1995                 NaN   \n",
       "3         4  Get Shorty (1995)  01-Jan-1995                 NaN   \n",
       "4         5     Copycat (1995)  01-Jan-1995                 NaN   \n",
       "\n",
       "                                            IMDb_URL  unknown  Action  \\\n",
       "0  http://us.imdb.com/M/title-exact?Toy%20Story%2...        0       0   \n",
       "1  http://us.imdb.com/M/title-exact?GoldenEye%20(...        0       1   \n",
       "2  http://us.imdb.com/M/title-exact?Four%20Rooms%...        0       0   \n",
       "3  http://us.imdb.com/M/title-exact?Get%20Shorty%...        0       1   \n",
       "4  http://us.imdb.com/M/title-exact?Copycat%20(1995)        0       0   \n",
       "\n",
       "   Adventure  Animation  Children's  ...  Fantasy  Film-Noir  Horror  Musical  \\\n",
       "0          0          1           1  ...        0          0       0        0   \n",
       "1          1          0           0  ...        0          0       0        0   \n",
       "2          0          0           0  ...        0          0       0        0   \n",
       "3          0          0           0  ...        0          0       0        0   \n",
       "4          0          0           0  ...        0          0       0        0   \n",
       "\n",
       "   Mystery  Romance  Sci-Fi  Thriller  War  Western  \n",
       "0        0        0       0         0    0        0  \n",
       "1        0        0       0         1    0        0  \n",
       "2        0        0       0         1    0        0  \n",
       "3        0        0       0         0    0        0  \n",
       "4        0        0       0         1    0        0  \n",
       "\n",
       "[5 rows x 24 columns]"
      ]
     },
     "execution_count": 9,
     "metadata": {},
     "output_type": "execute_result"
    }
   ],
   "source": [
    "# Load MovieLens movie metadata\n",
    "import pandas as pd\n",
    "\n",
    "column_names = [\n",
    "    'movie_id', 'title', 'release_date', 'video_release_date', 'IMDb_URL',\n",
    "    'unknown', 'Action', 'Adventure', 'Animation', \"Children's\",\n",
    "    'Comedy', 'Crime', 'Documentary', 'Drama', 'Fantasy', 'Film-Noir',\n",
    "    'Horror', 'Musical', 'Mystery', 'Romance', 'Sci-Fi', 'Thriller',\n",
    "    'War', 'Western'\n",
    "]\n",
    "\n",
    "movie_path = 'data/ml-100k/u.item'\n",
    "u_item = pd.read_csv(movie_path, sep='|', names=column_names, encoding='latin-1')\n",
    "\n",
    "# Display the first few rows\n",
    "u_item.head()"
   ]
  },
  {
   "cell_type": "code",
   "execution_count": 10,
   "id": "e8e4d1ea",
   "metadata": {},
   "outputs": [
    {
     "name": "stdout",
     "output_type": "stream",
     "text": [
      "R_train shape: (943, 1620), nonzero entries: 77487\n",
      "R_test shape: (943, 1620), nonzero entries: 18892\n",
      "\n",
      "R_train preview:\n"
     ]
    },
    {
     "data": {
      "text/html": [
       "<div>\n",
       "<style scoped>\n",
       "    .dataframe tbody tr th:only-of-type {\n",
       "        vertical-align: middle;\n",
       "    }\n",
       "\n",
       "    .dataframe tbody tr th {\n",
       "        vertical-align: top;\n",
       "    }\n",
       "\n",
       "    .dataframe thead th {\n",
       "        text-align: right;\n",
       "    }\n",
       "</style>\n",
       "<table border=\"1\" class=\"dataframe\">\n",
       "  <thead>\n",
       "    <tr style=\"text-align: right;\">\n",
       "      <th></th>\n",
       "      <th>0</th>\n",
       "      <th>1</th>\n",
       "      <th>2</th>\n",
       "      <th>3</th>\n",
       "      <th>4</th>\n",
       "      <th>5</th>\n",
       "      <th>6</th>\n",
       "      <th>7</th>\n",
       "      <th>8</th>\n",
       "      <th>9</th>\n",
       "    </tr>\n",
       "  </thead>\n",
       "  <tbody>\n",
       "    <tr>\n",
       "      <th>0</th>\n",
       "      <td>0.0</td>\n",
       "      <td>0.0</td>\n",
       "      <td>4.0</td>\n",
       "      <td>3.0</td>\n",
       "      <td>3.0</td>\n",
       "      <td>5.0</td>\n",
       "      <td>4.0</td>\n",
       "      <td>0.0</td>\n",
       "      <td>0.0</td>\n",
       "      <td>3.0</td>\n",
       "    </tr>\n",
       "    <tr>\n",
       "      <th>1</th>\n",
       "      <td>0.0</td>\n",
       "      <td>0.0</td>\n",
       "      <td>0.0</td>\n",
       "      <td>0.0</td>\n",
       "      <td>0.0</td>\n",
       "      <td>0.0</td>\n",
       "      <td>0.0</td>\n",
       "      <td>0.0</td>\n",
       "      <td>0.0</td>\n",
       "      <td>0.0</td>\n",
       "    </tr>\n",
       "    <tr>\n",
       "      <th>2</th>\n",
       "      <td>0.0</td>\n",
       "      <td>0.0</td>\n",
       "      <td>0.0</td>\n",
       "      <td>0.0</td>\n",
       "      <td>0.0</td>\n",
       "      <td>0.0</td>\n",
       "      <td>0.0</td>\n",
       "      <td>0.0</td>\n",
       "      <td>0.0</td>\n",
       "      <td>0.0</td>\n",
       "    </tr>\n",
       "    <tr>\n",
       "      <th>3</th>\n",
       "      <td>0.0</td>\n",
       "      <td>0.0</td>\n",
       "      <td>0.0</td>\n",
       "      <td>0.0</td>\n",
       "      <td>0.0</td>\n",
       "      <td>0.0</td>\n",
       "      <td>0.0</td>\n",
       "      <td>0.0</td>\n",
       "      <td>0.0</td>\n",
       "      <td>0.0</td>\n",
       "    </tr>\n",
       "    <tr>\n",
       "      <th>4</th>\n",
       "      <td>4.0</td>\n",
       "      <td>3.0</td>\n",
       "      <td>0.0</td>\n",
       "      <td>0.0</td>\n",
       "      <td>0.0</td>\n",
       "      <td>0.0</td>\n",
       "      <td>0.0</td>\n",
       "      <td>0.0</td>\n",
       "      <td>0.0</td>\n",
       "      <td>0.0</td>\n",
       "    </tr>\n",
       "  </tbody>\n",
       "</table>\n",
       "</div>"
      ],
      "text/plain": [
       "     0    1    2    3    4    5    6    7    8    9\n",
       "0  0.0  0.0  4.0  3.0  3.0  5.0  4.0  0.0  0.0  3.0\n",
       "1  0.0  0.0  0.0  0.0  0.0  0.0  0.0  0.0  0.0  0.0\n",
       "2  0.0  0.0  0.0  0.0  0.0  0.0  0.0  0.0  0.0  0.0\n",
       "3  0.0  0.0  0.0  0.0  0.0  0.0  0.0  0.0  0.0  0.0\n",
       "4  4.0  3.0  0.0  0.0  0.0  0.0  0.0  0.0  0.0  0.0"
      ]
     },
     "metadata": {},
     "output_type": "display_data"
    },
    {
     "name": "stdout",
     "output_type": "stream",
     "text": [
      "\n",
      "R_test preview:\n"
     ]
    },
    {
     "data": {
      "text/html": [
       "<div>\n",
       "<style scoped>\n",
       "    .dataframe tbody tr th:only-of-type {\n",
       "        vertical-align: middle;\n",
       "    }\n",
       "\n",
       "    .dataframe tbody tr th {\n",
       "        vertical-align: top;\n",
       "    }\n",
       "\n",
       "    .dataframe thead th {\n",
       "        text-align: right;\n",
       "    }\n",
       "</style>\n",
       "<table border=\"1\" class=\"dataframe\">\n",
       "  <thead>\n",
       "    <tr style=\"text-align: right;\">\n",
       "      <th></th>\n",
       "      <th>0</th>\n",
       "      <th>1</th>\n",
       "      <th>2</th>\n",
       "      <th>3</th>\n",
       "      <th>4</th>\n",
       "      <th>5</th>\n",
       "      <th>6</th>\n",
       "      <th>7</th>\n",
       "      <th>8</th>\n",
       "      <th>9</th>\n",
       "    </tr>\n",
       "  </thead>\n",
       "  <tbody>\n",
       "    <tr>\n",
       "      <th>0</th>\n",
       "      <td>5.0</td>\n",
       "      <td>3.0</td>\n",
       "      <td>0.0</td>\n",
       "      <td>0.0</td>\n",
       "      <td>0.0</td>\n",
       "      <td>0.0</td>\n",
       "      <td>0.0</td>\n",
       "      <td>1.0</td>\n",
       "      <td>5.0</td>\n",
       "      <td>0.0</td>\n",
       "    </tr>\n",
       "    <tr>\n",
       "      <th>1</th>\n",
       "      <td>4.0</td>\n",
       "      <td>0.0</td>\n",
       "      <td>0.0</td>\n",
       "      <td>0.0</td>\n",
       "      <td>0.0</td>\n",
       "      <td>0.0</td>\n",
       "      <td>0.0</td>\n",
       "      <td>0.0</td>\n",
       "      <td>0.0</td>\n",
       "      <td>2.0</td>\n",
       "    </tr>\n",
       "    <tr>\n",
       "      <th>2</th>\n",
       "      <td>0.0</td>\n",
       "      <td>0.0</td>\n",
       "      <td>0.0</td>\n",
       "      <td>0.0</td>\n",
       "      <td>0.0</td>\n",
       "      <td>0.0</td>\n",
       "      <td>0.0</td>\n",
       "      <td>0.0</td>\n",
       "      <td>0.0</td>\n",
       "      <td>0.0</td>\n",
       "    </tr>\n",
       "    <tr>\n",
       "      <th>3</th>\n",
       "      <td>0.0</td>\n",
       "      <td>0.0</td>\n",
       "      <td>0.0</td>\n",
       "      <td>0.0</td>\n",
       "      <td>0.0</td>\n",
       "      <td>0.0</td>\n",
       "      <td>0.0</td>\n",
       "      <td>0.0</td>\n",
       "      <td>0.0</td>\n",
       "      <td>0.0</td>\n",
       "    </tr>\n",
       "    <tr>\n",
       "      <th>4</th>\n",
       "      <td>0.0</td>\n",
       "      <td>0.0</td>\n",
       "      <td>0.0</td>\n",
       "      <td>0.0</td>\n",
       "      <td>0.0</td>\n",
       "      <td>0.0</td>\n",
       "      <td>0.0</td>\n",
       "      <td>0.0</td>\n",
       "      <td>0.0</td>\n",
       "      <td>0.0</td>\n",
       "    </tr>\n",
       "  </tbody>\n",
       "</table>\n",
       "</div>"
      ],
      "text/plain": [
       "     0    1    2    3    4    5    6    7    8    9\n",
       "0  5.0  3.0  0.0  0.0  0.0  0.0  0.0  1.0  5.0  0.0\n",
       "1  4.0  0.0  0.0  0.0  0.0  0.0  0.0  0.0  0.0  2.0\n",
       "2  0.0  0.0  0.0  0.0  0.0  0.0  0.0  0.0  0.0  0.0\n",
       "3  0.0  0.0  0.0  0.0  0.0  0.0  0.0  0.0  0.0  0.0\n",
       "4  0.0  0.0  0.0  0.0  0.0  0.0  0.0  0.0  0.0  0.0"
      ]
     },
     "metadata": {},
     "output_type": "display_data"
    }
   ],
   "source": [
    "import numpy as np\n",
    "import pandas as pd\n",
    "\n",
    "# Create User-Item Matrix\n",
    "n_users = train['user_id'].max()\n",
    "n_items = train['item_id'].max()\n",
    "\n",
    "def build_user_item_matrix(df, n_users, n_items):\n",
    "    \"\"\"Builds a user-item rating matrix from a DataFrame.\"\"\"\n",
    "    R = np.zeros((n_users, n_items))\n",
    "    for row in df.itertuples():\n",
    "        R[row.user_id - 1, row.item_id - 1] = row.rating\n",
    "    return R\n",
    "\n",
    "# Build matrices for training and testing\n",
    "R_train = build_user_item_matrix(train, n_users, n_items)\n",
    "R_test = build_user_item_matrix(test, n_users, n_items)\n",
    "\n",
    "# Display basic info\n",
    "print(f\"R_train shape: {R_train.shape}, nonzero entries: {np.count_nonzero(R_train)}\")\n",
    "print(f\"R_test shape: {R_test.shape}, nonzero entries: {np.count_nonzero(R_test)}\")\n",
    "\n",
    "# Preview small subset (first 5 users × first 10 items)\n",
    "print(\"\\nR_train preview:\")\n",
    "display(pd.DataFrame(R_train[:5, :10]))\n",
    "\n",
    "print(\"\\nR_test preview:\")\n",
    "display(pd.DataFrame(R_test[:5, :10]))"
   ]
  },
  {
   "cell_type": "code",
   "execution_count": 11,
   "id": "da0468ed",
   "metadata": {},
   "outputs": [],
   "source": [
    "# Matrix Factorization Function (SGD)\n",
    "def matrix_factorization(R, K=20, steps=100, alpha=0.002, beta=0.02, min_rating=1, max_rating=5):\n",
    "    \"\"\"\n",
    "    Perform matrix factorization using Stochastic Gradient Descent (SGD).\n",
    "\n",
    "    Parameters:\n",
    "        R (ndarray): User-item rating matrix\n",
    "        K (int): Number of latent factors\n",
    "        steps (int): Number of iterations\n",
    "        alpha (float): Learning rate\n",
    "        beta (float): Regularization parameter\n",
    "        min_rating (float): Minimum allowed rating\n",
    "        max_rating (float): Maximum allowed rating\n",
    "\n",
    "    Returns:\n",
    "        ndarray: Predicted rating matrix\n",
    "    \"\"\"\n",
    "    N, M = R.shape\n",
    "\n",
    "    # Initialize user and item latent factor matrices\n",
    "    P = np.random.rand(N, K)\n",
    "    Q = np.random.rand(M, K).T  # Transpose for easier multiplication\n",
    "\n",
    "    # SGD optimization\n",
    "    for step in range(steps):\n",
    "        for i in range(N):\n",
    "            for j in range(M):\n",
    "                if R[i, j] > 0:  # Only consider observed ratings\n",
    "                    eij = R[i, j] - np.dot(P[i, :], Q[:, j])\n",
    "                    P[i, :] += alpha * (2 * eij * Q[:, j] - beta * P[i, :])\n",
    "                    Q[:, j] += alpha * (2 * eij * P[i, :] - beta * Q[:, j])\n",
    "\n",
    "    # Compute final predicted rating matrix and clip to valid range\n",
    "    return np.dot(P, Q).clip(min_rating, max_rating)\n"
   ]
  },
  {
   "cell_type": "code",
   "execution_count": 12,
   "id": "650b9082",
   "metadata": {},
   "outputs": [],
   "source": [
    "# Evaluation Metrics for Recommendation\n",
    "import numpy as np\n",
    "\n",
    "def precision_at_k(recommended, relevant, k):\n",
    "    \"\"\"\n",
    "    Compute Precision@K.\n",
    "    \n",
    "    Parameters:\n",
    "        recommended (list): List of recommended item IDs\n",
    "        relevant (list or set): List or set of relevant item IDs\n",
    "        k (int): Number of top recommendations to consider\n",
    "        \n",
    "    Returns:\n",
    "        float: Precision@K\n",
    "    \"\"\"\n",
    "    recommended_k = recommended[:k]\n",
    "    return len(set(recommended_k) & set(relevant)) / k\n",
    "\n",
    "def recall_at_k(recommended, relevant, k):\n",
    "    \"\"\"\n",
    "    Compute Recall@K.\n",
    "    \n",
    "    Parameters:\n",
    "        recommended (list): List of recommended item IDs\n",
    "        relevant (list or set): List or set of relevant item IDs\n",
    "        k (int): Number of top recommendations to consider\n",
    "        \n",
    "    Returns:\n",
    "        float: Recall@K\n",
    "    \"\"\"\n",
    "    relevant = set(relevant)\n",
    "    if len(relevant) == 0:\n",
    "        return 0.0\n",
    "    recommended_k = recommended[:k]\n",
    "    return len(set(recommended_k) & relevant) / len(relevant)\n",
    "\n",
    "def ndcg_at_k(recommended, relevant, k):\n",
    "    \"\"\"\n",
    "    Compute Normalized Discounted Cumulative Gain (NDCG)@K.\n",
    "    \n",
    "    Parameters:\n",
    "        recommended (list): List of recommended item IDs\n",
    "        relevant (list or set): List or set of relevant item IDs\n",
    "        k (int): Number of top recommendations to consider\n",
    "        \n",
    "    Returns:\n",
    "        float: NDCG@K\n",
    "    \"\"\"\n",
    "    recommended_k = recommended[:k]\n",
    "    dcg = sum(1 / np.log2(i + 2) for i, item in enumerate(recommended_k) if item in relevant)\n",
    "    # Ideal DCG (best possible ranking)\n",
    "    idcg = sum(1 / np.log2(i + 2) for i in range(min(len(relevant), k)))\n",
    "    return dcg / idcg if idcg > 0 else 0"
   ]
  },
  {
   "cell_type": "code",
   "execution_count": null,
   "id": "8e3e4e4d",
   "metadata": {},
   "outputs": [
    {
     "name": "stdout",
     "output_type": "stream",
     "text": [
      "Training MF: K=20, α=0.001, β=0.01, steps=50\n"
     ]
    },
    {
     "data": {
      "application/vnd.jupyter.widget-view+json": {
       "model_id": "721382d51a65426faf0e9df36c9c31f2",
       "version_major": 2,
       "version_minor": 0
      },
      "text/plain": [
       "Evaluating users:   0%|          | 0/943 [00:00<?, ?it/s]"
      ]
     },
     "metadata": {},
     "output_type": "display_data"
    },
    {
     "name": "stdout",
     "output_type": "stream",
     "text": [
      "Training MF: K=20, α=0.001, β=0.01, steps=100\n"
     ]
    },
    {
     "data": {
      "application/vnd.jupyter.widget-view+json": {
       "model_id": "38aa3f65dc014344b70e765defa593e9",
       "version_major": 2,
       "version_minor": 0
      },
      "text/plain": [
       "Evaluating users:   0%|          | 0/943 [00:00<?, ?it/s]"
      ]
     },
     "metadata": {},
     "output_type": "display_data"
    },
    {
     "name": "stdout",
     "output_type": "stream",
     "text": [
      "Training MF: K=20, α=0.001, β=0.02, steps=50\n"
     ]
    },
    {
     "data": {
      "application/vnd.jupyter.widget-view+json": {
       "model_id": "5317c040f3474a309d8c2dd36c9b094f",
       "version_major": 2,
       "version_minor": 0
      },
      "text/plain": [
       "Evaluating users:   0%|          | 0/943 [00:00<?, ?it/s]"
      ]
     },
     "metadata": {},
     "output_type": "display_data"
    },
    {
     "name": "stdout",
     "output_type": "stream",
     "text": [
      "Training MF: K=20, α=0.001, β=0.02, steps=100\n"
     ]
    },
    {
     "data": {
      "application/vnd.jupyter.widget-view+json": {
       "model_id": "29b64f55623e4ff88742cd043210868e",
       "version_major": 2,
       "version_minor": 0
      },
      "text/plain": [
       "Evaluating users:   0%|          | 0/943 [00:00<?, ?it/s]"
      ]
     },
     "metadata": {},
     "output_type": "display_data"
    },
    {
     "name": "stdout",
     "output_type": "stream",
     "text": [
      "Training MF: K=20, α=0.001, β=0.05, steps=50\n"
     ]
    },
    {
     "data": {
      "application/vnd.jupyter.widget-view+json": {
       "model_id": "81dc34ff1c4846c995400761ce23517e",
       "version_major": 2,
       "version_minor": 0
      },
      "text/plain": [
       "Evaluating users:   0%|          | 0/943 [00:00<?, ?it/s]"
      ]
     },
     "metadata": {},
     "output_type": "display_data"
    },
    {
     "name": "stdout",
     "output_type": "stream",
     "text": [
      "Training MF: K=20, α=0.001, β=0.05, steps=100\n"
     ]
    },
    {
     "data": {
      "application/vnd.jupyter.widget-view+json": {
       "model_id": "923cf0f55e8c42588db6955b8fe3a0a0",
       "version_major": 2,
       "version_minor": 0
      },
      "text/plain": [
       "Evaluating users:   0%|          | 0/943 [00:00<?, ?it/s]"
      ]
     },
     "metadata": {},
     "output_type": "display_data"
    },
    {
     "name": "stdout",
     "output_type": "stream",
     "text": [
      "Training MF: K=20, α=0.002, β=0.01, steps=50\n"
     ]
    },
    {
     "data": {
      "application/vnd.jupyter.widget-view+json": {
       "model_id": "ea1e2bb7c5b142d5abeeeaab34309eaf",
       "version_major": 2,
       "version_minor": 0
      },
      "text/plain": [
       "Evaluating users:   0%|          | 0/943 [00:00<?, ?it/s]"
      ]
     },
     "metadata": {},
     "output_type": "display_data"
    },
    {
     "name": "stdout",
     "output_type": "stream",
     "text": [
      "Training MF: K=20, α=0.002, β=0.01, steps=100\n"
     ]
    },
    {
     "data": {
      "application/vnd.jupyter.widget-view+json": {
       "model_id": "29639abec52e4abe957091926afd1555",
       "version_major": 2,
       "version_minor": 0
      },
      "text/plain": [
       "Evaluating users:   0%|          | 0/943 [00:00<?, ?it/s]"
      ]
     },
     "metadata": {},
     "output_type": "display_data"
    },
    {
     "name": "stdout",
     "output_type": "stream",
     "text": [
      "Training MF: K=20, α=0.002, β=0.02, steps=50\n"
     ]
    },
    {
     "data": {
      "application/vnd.jupyter.widget-view+json": {
       "model_id": "2181a91291894f2fb7c646330297adaf",
       "version_major": 2,
       "version_minor": 0
      },
      "text/plain": [
       "Evaluating users:   0%|          | 0/943 [00:00<?, ?it/s]"
      ]
     },
     "metadata": {},
     "output_type": "display_data"
    },
    {
     "name": "stdout",
     "output_type": "stream",
     "text": [
      "Training MF: K=20, α=0.002, β=0.02, steps=100\n"
     ]
    },
    {
     "data": {
      "application/vnd.jupyter.widget-view+json": {
       "model_id": "a316d51e4ae848bd8b690c8740b417f0",
       "version_major": 2,
       "version_minor": 0
      },
      "text/plain": [
       "Evaluating users:   0%|          | 0/943 [00:00<?, ?it/s]"
      ]
     },
     "metadata": {},
     "output_type": "display_data"
    },
    {
     "name": "stdout",
     "output_type": "stream",
     "text": [
      "Training MF: K=20, α=0.002, β=0.05, steps=50\n"
     ]
    },
    {
     "data": {
      "application/vnd.jupyter.widget-view+json": {
       "model_id": "486de39dc4ea4531a596b5bf3cc07fc6",
       "version_major": 2,
       "version_minor": 0
      },
      "text/plain": [
       "Evaluating users:   0%|          | 0/943 [00:00<?, ?it/s]"
      ]
     },
     "metadata": {},
     "output_type": "display_data"
    },
    {
     "name": "stdout",
     "output_type": "stream",
     "text": [
      "Training MF: K=20, α=0.002, β=0.05, steps=100\n"
     ]
    },
    {
     "data": {
      "application/vnd.jupyter.widget-view+json": {
       "model_id": "7850edd7367449aa86e38cf2fa5b176e",
       "version_major": 2,
       "version_minor": 0
      },
      "text/plain": [
       "Evaluating users:   0%|          | 0/943 [00:00<?, ?it/s]"
      ]
     },
     "metadata": {},
     "output_type": "display_data"
    },
    {
     "name": "stdout",
     "output_type": "stream",
     "text": [
      "Training MF: K=20, α=0.005, β=0.01, steps=50\n"
     ]
    },
    {
     "data": {
      "application/vnd.jupyter.widget-view+json": {
       "model_id": "8d9d3b744d2b4cccb4afd896ce06da1c",
       "version_major": 2,
       "version_minor": 0
      },
      "text/plain": [
       "Evaluating users:   0%|          | 0/943 [00:00<?, ?it/s]"
      ]
     },
     "metadata": {},
     "output_type": "display_data"
    },
    {
     "name": "stdout",
     "output_type": "stream",
     "text": [
      "Training MF: K=20, α=0.005, β=0.01, steps=100\n"
     ]
    },
    {
     "data": {
      "application/vnd.jupyter.widget-view+json": {
       "model_id": "5048f6b30c844a55ba62b00d41b69a9e",
       "version_major": 2,
       "version_minor": 0
      },
      "text/plain": [
       "Evaluating users:   0%|          | 0/943 [00:00<?, ?it/s]"
      ]
     },
     "metadata": {},
     "output_type": "display_data"
    },
    {
     "name": "stdout",
     "output_type": "stream",
     "text": [
      "Training MF: K=20, α=0.005, β=0.02, steps=50\n"
     ]
    },
    {
     "data": {
      "application/vnd.jupyter.widget-view+json": {
       "model_id": "8117ca349cd04194be728de39ccdb4fb",
       "version_major": 2,
       "version_minor": 0
      },
      "text/plain": [
       "Evaluating users:   0%|          | 0/943 [00:00<?, ?it/s]"
      ]
     },
     "metadata": {},
     "output_type": "display_data"
    },
    {
     "name": "stdout",
     "output_type": "stream",
     "text": [
      "Training MF: K=20, α=0.005, β=0.02, steps=100\n"
     ]
    },
    {
     "data": {
      "application/vnd.jupyter.widget-view+json": {
       "model_id": "c6f0bc1bee47499a8f7dba412c4dce9e",
       "version_major": 2,
       "version_minor": 0
      },
      "text/plain": [
       "Evaluating users:   0%|          | 0/943 [00:00<?, ?it/s]"
      ]
     },
     "metadata": {},
     "output_type": "display_data"
    },
    {
     "name": "stdout",
     "output_type": "stream",
     "text": [
      "Training MF: K=20, α=0.005, β=0.05, steps=50\n"
     ]
    },
    {
     "data": {
      "application/vnd.jupyter.widget-view+json": {
       "model_id": "06a25803df5443d9ba39f388d60364f7",
       "version_major": 2,
       "version_minor": 0
      },
      "text/plain": [
       "Evaluating users:   0%|          | 0/943 [00:00<?, ?it/s]"
      ]
     },
     "metadata": {},
     "output_type": "display_data"
    },
    {
     "name": "stdout",
     "output_type": "stream",
     "text": [
      "Training MF: K=20, α=0.005, β=0.05, steps=100\n"
     ]
    },
    {
     "data": {
      "application/vnd.jupyter.widget-view+json": {
       "model_id": "4d315911db044c949e0dc8f685034614",
       "version_major": 2,
       "version_minor": 0
      },
      "text/plain": [
       "Evaluating users:   0%|          | 0/943 [00:00<?, ?it/s]"
      ]
     },
     "metadata": {},
     "output_type": "display_data"
    },
    {
     "name": "stdout",
     "output_type": "stream",
     "text": [
      "Training MF: K=50, α=0.001, β=0.01, steps=50\n"
     ]
    },
    {
     "data": {
      "application/vnd.jupyter.widget-view+json": {
       "model_id": "8a75de2a7c4d46319ccc159ab84283a8",
       "version_major": 2,
       "version_minor": 0
      },
      "text/plain": [
       "Evaluating users:   0%|          | 0/943 [00:00<?, ?it/s]"
      ]
     },
     "metadata": {},
     "output_type": "display_data"
    },
    {
     "name": "stdout",
     "output_type": "stream",
     "text": [
      "Training MF: K=50, α=0.001, β=0.01, steps=100\n"
     ]
    },
    {
     "data": {
      "application/vnd.jupyter.widget-view+json": {
       "model_id": "8de6afc104d545119e81ba08676a029a",
       "version_major": 2,
       "version_minor": 0
      },
      "text/plain": [
       "Evaluating users:   0%|          | 0/943 [00:00<?, ?it/s]"
      ]
     },
     "metadata": {},
     "output_type": "display_data"
    },
    {
     "name": "stdout",
     "output_type": "stream",
     "text": [
      "Training MF: K=50, α=0.001, β=0.02, steps=50\n"
     ]
    },
    {
     "data": {
      "application/vnd.jupyter.widget-view+json": {
       "model_id": "4b623af852a64e52bd80aeededd8c499",
       "version_major": 2,
       "version_minor": 0
      },
      "text/plain": [
       "Evaluating users:   0%|          | 0/943 [00:00<?, ?it/s]"
      ]
     },
     "metadata": {},
     "output_type": "display_data"
    },
    {
     "name": "stdout",
     "output_type": "stream",
     "text": [
      "Training MF: K=50, α=0.001, β=0.02, steps=100\n"
     ]
    },
    {
     "data": {
      "application/vnd.jupyter.widget-view+json": {
       "model_id": "db944633fcd34486b3b656d728e47e77",
       "version_major": 2,
       "version_minor": 0
      },
      "text/plain": [
       "Evaluating users:   0%|          | 0/943 [00:00<?, ?it/s]"
      ]
     },
     "metadata": {},
     "output_type": "display_data"
    },
    {
     "name": "stdout",
     "output_type": "stream",
     "text": [
      "Training MF: K=50, α=0.001, β=0.05, steps=50\n"
     ]
    },
    {
     "data": {
      "application/vnd.jupyter.widget-view+json": {
       "model_id": "7b0bca94ba7d4ba9bfd795230a4a285d",
       "version_major": 2,
       "version_minor": 0
      },
      "text/plain": [
       "Evaluating users:   0%|          | 0/943 [00:00<?, ?it/s]"
      ]
     },
     "metadata": {},
     "output_type": "display_data"
    },
    {
     "name": "stdout",
     "output_type": "stream",
     "text": [
      "Training MF: K=50, α=0.001, β=0.05, steps=100\n"
     ]
    },
    {
     "data": {
      "application/vnd.jupyter.widget-view+json": {
       "model_id": "5ba6bdc4d696429197925307b8085ad3",
       "version_major": 2,
       "version_minor": 0
      },
      "text/plain": [
       "Evaluating users:   0%|          | 0/943 [00:00<?, ?it/s]"
      ]
     },
     "metadata": {},
     "output_type": "display_data"
    },
    {
     "name": "stdout",
     "output_type": "stream",
     "text": [
      "Training MF: K=50, α=0.002, β=0.01, steps=50\n"
     ]
    },
    {
     "data": {
      "application/vnd.jupyter.widget-view+json": {
       "model_id": "24ee1ad470de4ab1b1f8c7e12f7e0c9d",
       "version_major": 2,
       "version_minor": 0
      },
      "text/plain": [
       "Evaluating users:   0%|          | 0/943 [00:00<?, ?it/s]"
      ]
     },
     "metadata": {},
     "output_type": "display_data"
    },
    {
     "name": "stdout",
     "output_type": "stream",
     "text": [
      "Training MF: K=50, α=0.002, β=0.01, steps=100\n"
     ]
    },
    {
     "data": {
      "application/vnd.jupyter.widget-view+json": {
       "model_id": "eccd5fc15c7246a694f0e6ab7287dc05",
       "version_major": 2,
       "version_minor": 0
      },
      "text/plain": [
       "Evaluating users:   0%|          | 0/943 [00:00<?, ?it/s]"
      ]
     },
     "metadata": {},
     "output_type": "display_data"
    },
    {
     "name": "stdout",
     "output_type": "stream",
     "text": [
      "Training MF: K=50, α=0.002, β=0.02, steps=50\n"
     ]
    },
    {
     "data": {
      "application/vnd.jupyter.widget-view+json": {
       "model_id": "af270d97a4b646db99c599477e7db2e8",
       "version_major": 2,
       "version_minor": 0
      },
      "text/plain": [
       "Evaluating users:   0%|          | 0/943 [00:00<?, ?it/s]"
      ]
     },
     "metadata": {},
     "output_type": "display_data"
    },
    {
     "name": "stdout",
     "output_type": "stream",
     "text": [
      "Training MF: K=50, α=0.002, β=0.02, steps=100\n"
     ]
    },
    {
     "data": {
      "application/vnd.jupyter.widget-view+json": {
       "model_id": "6a68f7d41ee24280b1dff82e31cc8fc5",
       "version_major": 2,
       "version_minor": 0
      },
      "text/plain": [
       "Evaluating users:   0%|          | 0/943 [00:00<?, ?it/s]"
      ]
     },
     "metadata": {},
     "output_type": "display_data"
    },
    {
     "name": "stdout",
     "output_type": "stream",
     "text": [
      "Training MF: K=50, α=0.002, β=0.05, steps=50\n"
     ]
    },
    {
     "data": {
      "application/vnd.jupyter.widget-view+json": {
       "model_id": "cc994a8baef54ca187029fc8a415084d",
       "version_major": 2,
       "version_minor": 0
      },
      "text/plain": [
       "Evaluating users:   0%|          | 0/943 [00:00<?, ?it/s]"
      ]
     },
     "metadata": {},
     "output_type": "display_data"
    },
    {
     "name": "stdout",
     "output_type": "stream",
     "text": [
      "Training MF: K=50, α=0.002, β=0.05, steps=100\n"
     ]
    },
    {
     "data": {
      "application/vnd.jupyter.widget-view+json": {
       "model_id": "f0636737db6a46c182a1eed93dd21b86",
       "version_major": 2,
       "version_minor": 0
      },
      "text/plain": [
       "Evaluating users:   0%|          | 0/943 [00:00<?, ?it/s]"
      ]
     },
     "metadata": {},
     "output_type": "display_data"
    },
    {
     "name": "stdout",
     "output_type": "stream",
     "text": [
      "Training MF: K=50, α=0.005, β=0.01, steps=50\n"
     ]
    },
    {
     "data": {
      "application/vnd.jupyter.widget-view+json": {
       "model_id": "e2fc1960b6124ad1b50b4a8775bcf34a",
       "version_major": 2,
       "version_minor": 0
      },
      "text/plain": [
       "Evaluating users:   0%|          | 0/943 [00:00<?, ?it/s]"
      ]
     },
     "metadata": {},
     "output_type": "display_data"
    },
    {
     "name": "stdout",
     "output_type": "stream",
     "text": [
      "Training MF: K=50, α=0.005, β=0.01, steps=100\n"
     ]
    },
    {
     "data": {
      "application/vnd.jupyter.widget-view+json": {
       "model_id": "adf2b465b0464c07b09c961615ad70b6",
       "version_major": 2,
       "version_minor": 0
      },
      "text/plain": [
       "Evaluating users:   0%|          | 0/943 [00:00<?, ?it/s]"
      ]
     },
     "metadata": {},
     "output_type": "display_data"
    },
    {
     "name": "stdout",
     "output_type": "stream",
     "text": [
      "Training MF: K=50, α=0.005, β=0.02, steps=50\n"
     ]
    },
    {
     "data": {
      "application/vnd.jupyter.widget-view+json": {
       "model_id": "4f03347aacaf4cb7b8ded2a998acd4a4",
       "version_major": 2,
       "version_minor": 0
      },
      "text/plain": [
       "Evaluating users:   0%|          | 0/943 [00:00<?, ?it/s]"
      ]
     },
     "metadata": {},
     "output_type": "display_data"
    },
    {
     "name": "stdout",
     "output_type": "stream",
     "text": [
      "Training MF: K=50, α=0.005, β=0.02, steps=100\n"
     ]
    },
    {
     "data": {
      "application/vnd.jupyter.widget-view+json": {
       "model_id": "40d292ab9cd443fb8918b4f82ce113e9",
       "version_major": 2,
       "version_minor": 0
      },
      "text/plain": [
       "Evaluating users:   0%|          | 0/943 [00:00<?, ?it/s]"
      ]
     },
     "metadata": {},
     "output_type": "display_data"
    },
    {
     "name": "stdout",
     "output_type": "stream",
     "text": [
      "Training MF: K=50, α=0.005, β=0.05, steps=50\n"
     ]
    },
    {
     "data": {
      "application/vnd.jupyter.widget-view+json": {
       "model_id": "c172e5099d9d4196a539cb3689abbc3a",
       "version_major": 2,
       "version_minor": 0
      },
      "text/plain": [
       "Evaluating users:   0%|          | 0/943 [00:00<?, ?it/s]"
      ]
     },
     "metadata": {},
     "output_type": "display_data"
    },
    {
     "name": "stdout",
     "output_type": "stream",
     "text": [
      "Training MF: K=50, α=0.005, β=0.05, steps=100\n"
     ]
    },
    {
     "data": {
      "application/vnd.jupyter.widget-view+json": {
       "model_id": "1784997b956d409da84121ed1eb44819",
       "version_major": 2,
       "version_minor": 0
      },
      "text/plain": [
       "Evaluating users:   0%|          | 0/943 [00:00<?, ?it/s]"
      ]
     },
     "metadata": {},
     "output_type": "display_data"
    },
    {
     "name": "stdout",
     "output_type": "stream",
     "text": [
      "Training MF: K=100, α=0.001, β=0.01, steps=50\n"
     ]
    },
    {
     "data": {
      "application/vnd.jupyter.widget-view+json": {
       "model_id": "b5761002541b40d082edd9c2cfff931c",
       "version_major": 2,
       "version_minor": 0
      },
      "text/plain": [
       "Evaluating users:   0%|          | 0/943 [00:00<?, ?it/s]"
      ]
     },
     "metadata": {},
     "output_type": "display_data"
    },
    {
     "name": "stdout",
     "output_type": "stream",
     "text": [
      "Training MF: K=100, α=0.001, β=0.01, steps=100\n"
     ]
    },
    {
     "data": {
      "application/vnd.jupyter.widget-view+json": {
       "model_id": "51b13f90d16249199687381f233b91ab",
       "version_major": 2,
       "version_minor": 0
      },
      "text/plain": [
       "Evaluating users:   0%|          | 0/943 [00:00<?, ?it/s]"
      ]
     },
     "metadata": {},
     "output_type": "display_data"
    },
    {
     "name": "stdout",
     "output_type": "stream",
     "text": [
      "Training MF: K=100, α=0.001, β=0.02, steps=50\n"
     ]
    },
    {
     "data": {
      "application/vnd.jupyter.widget-view+json": {
       "model_id": "69bf5c2ef10c4d479f81118a9e97602b",
       "version_major": 2,
       "version_minor": 0
      },
      "text/plain": [
       "Evaluating users:   0%|          | 0/943 [00:00<?, ?it/s]"
      ]
     },
     "metadata": {},
     "output_type": "display_data"
    },
    {
     "name": "stdout",
     "output_type": "stream",
     "text": [
      "Training MF: K=100, α=0.001, β=0.02, steps=100\n"
     ]
    },
    {
     "data": {
      "application/vnd.jupyter.widget-view+json": {
       "model_id": "27adfef0871b4171821cb244165531e5",
       "version_major": 2,
       "version_minor": 0
      },
      "text/plain": [
       "Evaluating users:   0%|          | 0/943 [00:00<?, ?it/s]"
      ]
     },
     "metadata": {},
     "output_type": "display_data"
    },
    {
     "name": "stdout",
     "output_type": "stream",
     "text": [
      "Training MF: K=100, α=0.001, β=0.05, steps=50\n"
     ]
    },
    {
     "data": {
      "application/vnd.jupyter.widget-view+json": {
       "model_id": "48284543c6944c979ee6484dce36dee8",
       "version_major": 2,
       "version_minor": 0
      },
      "text/plain": [
       "Evaluating users:   0%|          | 0/943 [00:00<?, ?it/s]"
      ]
     },
     "metadata": {},
     "output_type": "display_data"
    },
    {
     "name": "stdout",
     "output_type": "stream",
     "text": [
      "Training MF: K=100, α=0.001, β=0.05, steps=100\n"
     ]
    },
    {
     "data": {
      "application/vnd.jupyter.widget-view+json": {
       "model_id": "90ca7e70b94b40edb279b15b42f0ddb0",
       "version_major": 2,
       "version_minor": 0
      },
      "text/plain": [
       "Evaluating users:   0%|          | 0/943 [00:00<?, ?it/s]"
      ]
     },
     "metadata": {},
     "output_type": "display_data"
    },
    {
     "name": "stdout",
     "output_type": "stream",
     "text": [
      "Training MF: K=100, α=0.002, β=0.01, steps=50\n"
     ]
    },
    {
     "data": {
      "application/vnd.jupyter.widget-view+json": {
       "model_id": "b8d22e2a89e44fc6828c3c948abd4fb1",
       "version_major": 2,
       "version_minor": 0
      },
      "text/plain": [
       "Evaluating users:   0%|          | 0/943 [00:00<?, ?it/s]"
      ]
     },
     "metadata": {},
     "output_type": "display_data"
    },
    {
     "name": "stdout",
     "output_type": "stream",
     "text": [
      "Training MF: K=100, α=0.002, β=0.01, steps=100\n"
     ]
    },
    {
     "data": {
      "application/vnd.jupyter.widget-view+json": {
       "model_id": "0ebfe3c078cd482ca975532231410570",
       "version_major": 2,
       "version_minor": 0
      },
      "text/plain": [
       "Evaluating users:   0%|          | 0/943 [00:00<?, ?it/s]"
      ]
     },
     "metadata": {},
     "output_type": "display_data"
    },
    {
     "name": "stdout",
     "output_type": "stream",
     "text": [
      "Training MF: K=100, α=0.002, β=0.02, steps=50\n"
     ]
    },
    {
     "data": {
      "application/vnd.jupyter.widget-view+json": {
       "model_id": "909b3bafac204cec91e12d777f37e6c9",
       "version_major": 2,
       "version_minor": 0
      },
      "text/plain": [
       "Evaluating users:   0%|          | 0/943 [00:00<?, ?it/s]"
      ]
     },
     "metadata": {},
     "output_type": "display_data"
    },
    {
     "name": "stdout",
     "output_type": "stream",
     "text": [
      "Training MF: K=100, α=0.002, β=0.02, steps=100\n"
     ]
    },
    {
     "data": {
      "application/vnd.jupyter.widget-view+json": {
       "model_id": "9730a7104d2345b5a5ae355d23cc6000",
       "version_major": 2,
       "version_minor": 0
      },
      "text/plain": [
       "Evaluating users:   0%|          | 0/943 [00:00<?, ?it/s]"
      ]
     },
     "metadata": {},
     "output_type": "display_data"
    },
    {
     "name": "stdout",
     "output_type": "stream",
     "text": [
      "Training MF: K=100, α=0.002, β=0.05, steps=50\n"
     ]
    },
    {
     "data": {
      "application/vnd.jupyter.widget-view+json": {
       "model_id": "8b6fbebad0a94b459b5e64067e623bec",
       "version_major": 2,
       "version_minor": 0
      },
      "text/plain": [
       "Evaluating users:   0%|          | 0/943 [00:00<?, ?it/s]"
      ]
     },
     "metadata": {},
     "output_type": "display_data"
    },
    {
     "name": "stdout",
     "output_type": "stream",
     "text": [
      "Training MF: K=100, α=0.002, β=0.05, steps=100\n"
     ]
    },
    {
     "data": {
      "application/vnd.jupyter.widget-view+json": {
       "model_id": "48a2e8a4ed5e48bbbb0ccf0a33811c12",
       "version_major": 2,
       "version_minor": 0
      },
      "text/plain": [
       "Evaluating users:   0%|          | 0/943 [00:00<?, ?it/s]"
      ]
     },
     "metadata": {},
     "output_type": "display_data"
    },
    {
     "name": "stdout",
     "output_type": "stream",
     "text": [
      "Training MF: K=100, α=0.005, β=0.01, steps=50\n"
     ]
    },
    {
     "data": {
      "application/vnd.jupyter.widget-view+json": {
       "model_id": "1587a8a48d0a46a4a7cb22f0ed75b14f",
       "version_major": 2,
       "version_minor": 0
      },
      "text/plain": [
       "Evaluating users:   0%|          | 0/943 [00:00<?, ?it/s]"
      ]
     },
     "metadata": {},
     "output_type": "display_data"
    },
    {
     "name": "stdout",
     "output_type": "stream",
     "text": [
      "Training MF: K=100, α=0.005, β=0.01, steps=100\n"
     ]
    },
    {
     "data": {
      "application/vnd.jupyter.widget-view+json": {
       "model_id": "4b9d4f841d4d43c28ab653cb3d89cdc7",
       "version_major": 2,
       "version_minor": 0
      },
      "text/plain": [
       "Evaluating users:   0%|          | 0/943 [00:00<?, ?it/s]"
      ]
     },
     "metadata": {},
     "output_type": "display_data"
    },
    {
     "name": "stdout",
     "output_type": "stream",
     "text": [
      "Training MF: K=100, α=0.005, β=0.02, steps=50\n"
     ]
    },
    {
     "data": {
      "application/vnd.jupyter.widget-view+json": {
       "model_id": "0778bdf91a414c26ad547b3657ca69c6",
       "version_major": 2,
       "version_minor": 0
      },
      "text/plain": [
       "Evaluating users:   0%|          | 0/943 [00:00<?, ?it/s]"
      ]
     },
     "metadata": {},
     "output_type": "display_data"
    },
    {
     "name": "stdout",
     "output_type": "stream",
     "text": [
      "Training MF: K=100, α=0.005, β=0.02, steps=100\n"
     ]
    },
    {
     "data": {
      "application/vnd.jupyter.widget-view+json": {
       "model_id": "708c62a57cf3402abf7db1f31a47728a",
       "version_major": 2,
       "version_minor": 0
      },
      "text/plain": [
       "Evaluating users:   0%|          | 0/943 [00:00<?, ?it/s]"
      ]
     },
     "metadata": {},
     "output_type": "display_data"
    },
    {
     "name": "stdout",
     "output_type": "stream",
     "text": [
      "Training MF: K=100, α=0.005, β=0.05, steps=50\n"
     ]
    },
    {
     "data": {
      "application/vnd.jupyter.widget-view+json": {
       "model_id": "414b0d49f68d4ab9a4fa64aa36a4eb8a",
       "version_major": 2,
       "version_minor": 0
      },
      "text/plain": [
       "Evaluating users:   0%|          | 0/943 [00:00<?, ?it/s]"
      ]
     },
     "metadata": {},
     "output_type": "display_data"
    },
    {
     "name": "stdout",
     "output_type": "stream",
     "text": [
      "Training MF: K=100, α=0.005, β=0.05, steps=100\n"
     ]
    },
    {
     "data": {
      "application/vnd.jupyter.widget-view+json": {
       "model_id": "2fd885f98b2542a2ab3d634b4ec346bd",
       "version_major": 2,
       "version_minor": 0
      },
      "text/plain": [
       "Evaluating users:   0%|          | 0/943 [00:00<?, ?it/s]"
      ]
     },
     "metadata": {},
     "output_type": "display_data"
    },
    {
     "data": {
      "text/html": [
       "<div>\n",
       "<style scoped>\n",
       "    .dataframe tbody tr th:only-of-type {\n",
       "        vertical-align: middle;\n",
       "    }\n",
       "\n",
       "    .dataframe tbody tr th {\n",
       "        vertical-align: top;\n",
       "    }\n",
       "\n",
       "    .dataframe thead th {\n",
       "        text-align: right;\n",
       "    }\n",
       "</style>\n",
       "<table border=\"1\" class=\"dataframe\">\n",
       "  <thead>\n",
       "    <tr style=\"text-align: right;\">\n",
       "      <th></th>\n",
       "      <th>K</th>\n",
       "      <th>alpha</th>\n",
       "      <th>beta</th>\n",
       "      <th>steps</th>\n",
       "      <th>rmse</th>\n",
       "      <th>mae</th>\n",
       "      <th>precision@5</th>\n",
       "      <th>precision@10</th>\n",
       "      <th>recall@5</th>\n",
       "      <th>recall@10</th>\n",
       "      <th>ndcg@5</th>\n",
       "      <th>ndcg@10</th>\n",
       "    </tr>\n",
       "  </thead>\n",
       "  <tbody>\n",
       "    <tr>\n",
       "      <th>12</th>\n",
       "      <td>20</td>\n",
       "      <td>0.005</td>\n",
       "      <td>0.01</td>\n",
       "      <td>50</td>\n",
       "      <td>1.077592</td>\n",
       "      <td>0.827063</td>\n",
       "      <td>0.055780</td>\n",
       "      <td>0.052294</td>\n",
       "      <td>0.007946</td>\n",
       "      <td>0.015293</td>\n",
       "      <td>0.053938</td>\n",
       "      <td>0.052832</td>\n",
       "    </tr>\n",
       "    <tr>\n",
       "      <th>13</th>\n",
       "      <td>20</td>\n",
       "      <td>0.005</td>\n",
       "      <td>0.01</td>\n",
       "      <td>100</td>\n",
       "      <td>1.126445</td>\n",
       "      <td>0.853988</td>\n",
       "      <td>0.050642</td>\n",
       "      <td>0.051009</td>\n",
       "      <td>0.006178</td>\n",
       "      <td>0.014648</td>\n",
       "      <td>0.052709</td>\n",
       "      <td>0.052605</td>\n",
       "    </tr>\n",
       "    <tr>\n",
       "      <th>14</th>\n",
       "      <td>20</td>\n",
       "      <td>0.005</td>\n",
       "      <td>0.02</td>\n",
       "      <td>50</td>\n",
       "      <td>1.057242</td>\n",
       "      <td>0.810976</td>\n",
       "      <td>0.042936</td>\n",
       "      <td>0.049358</td>\n",
       "      <td>0.005136</td>\n",
       "      <td>0.012424</td>\n",
       "      <td>0.042539</td>\n",
       "      <td>0.047462</td>\n",
       "    </tr>\n",
       "    <tr>\n",
       "      <th>15</th>\n",
       "      <td>20</td>\n",
       "      <td>0.005</td>\n",
       "      <td>0.02</td>\n",
       "      <td>100</td>\n",
       "      <td>1.097651</td>\n",
       "      <td>0.837336</td>\n",
       "      <td>0.035229</td>\n",
       "      <td>0.035596</td>\n",
       "      <td>0.004887</td>\n",
       "      <td>0.009958</td>\n",
       "      <td>0.037251</td>\n",
       "      <td>0.037062</td>\n",
       "    </tr>\n",
       "    <tr>\n",
       "      <th>7</th>\n",
       "      <td>20</td>\n",
       "      <td>0.002</td>\n",
       "      <td>0.01</td>\n",
       "      <td>100</td>\n",
       "      <td>1.050594</td>\n",
       "      <td>0.805462</td>\n",
       "      <td>0.029725</td>\n",
       "      <td>0.033028</td>\n",
       "      <td>0.004815</td>\n",
       "      <td>0.009857</td>\n",
       "      <td>0.031269</td>\n",
       "      <td>0.033333</td>\n",
       "    </tr>\n",
       "    <tr>\n",
       "      <th>9</th>\n",
       "      <td>20</td>\n",
       "      <td>0.002</td>\n",
       "      <td>0.02</td>\n",
       "      <td>100</td>\n",
       "      <td>1.036174</td>\n",
       "      <td>0.797176</td>\n",
       "      <td>0.029358</td>\n",
       "      <td>0.029908</td>\n",
       "      <td>0.003591</td>\n",
       "      <td>0.007624</td>\n",
       "      <td>0.030600</td>\n",
       "      <td>0.030420</td>\n",
       "    </tr>\n",
       "    <tr>\n",
       "      <th>8</th>\n",
       "      <td>20</td>\n",
       "      <td>0.002</td>\n",
       "      <td>0.02</td>\n",
       "      <td>50</td>\n",
       "      <td>1.002354</td>\n",
       "      <td>0.776929</td>\n",
       "      <td>0.027156</td>\n",
       "      <td>0.026422</td>\n",
       "      <td>0.004231</td>\n",
       "      <td>0.007927</td>\n",
       "      <td>0.028546</td>\n",
       "      <td>0.027720</td>\n",
       "    </tr>\n",
       "    <tr>\n",
       "      <th>6</th>\n",
       "      <td>20</td>\n",
       "      <td>0.002</td>\n",
       "      <td>0.01</td>\n",
       "      <td>50</td>\n",
       "      <td>1.012798</td>\n",
       "      <td>0.787951</td>\n",
       "      <td>0.026055</td>\n",
       "      <td>0.026606</td>\n",
       "      <td>0.003725</td>\n",
       "      <td>0.006784</td>\n",
       "      <td>0.027523</td>\n",
       "      <td>0.027604</td>\n",
       "    </tr>\n",
       "    <tr>\n",
       "      <th>16</th>\n",
       "      <td>20</td>\n",
       "      <td>0.005</td>\n",
       "      <td>0.05</td>\n",
       "      <td>50</td>\n",
       "      <td>1.014708</td>\n",
       "      <td>0.782444</td>\n",
       "      <td>0.026055</td>\n",
       "      <td>0.026239</td>\n",
       "      <td>0.004376</td>\n",
       "      <td>0.008221</td>\n",
       "      <td>0.025383</td>\n",
       "      <td>0.025994</td>\n",
       "    </tr>\n",
       "    <tr>\n",
       "      <th>1</th>\n",
       "      <td>20</td>\n",
       "      <td>0.001</td>\n",
       "      <td>0.01</td>\n",
       "      <td>100</td>\n",
       "      <td>1.006830</td>\n",
       "      <td>0.777819</td>\n",
       "      <td>0.024587</td>\n",
       "      <td>0.024587</td>\n",
       "      <td>0.003302</td>\n",
       "      <td>0.007260</td>\n",
       "      <td>0.025681</td>\n",
       "      <td>0.025529</td>\n",
       "    </tr>\n",
       "  </tbody>\n",
       "</table>\n",
       "</div>"
      ],
      "text/plain": [
       "     K  alpha  beta  steps      rmse       mae  precision@5  precision@10  \\\n",
       "12  20  0.005  0.01     50  1.077592  0.827063     0.055780      0.052294   \n",
       "13  20  0.005  0.01    100  1.126445  0.853988     0.050642      0.051009   \n",
       "14  20  0.005  0.02     50  1.057242  0.810976     0.042936      0.049358   \n",
       "15  20  0.005  0.02    100  1.097651  0.837336     0.035229      0.035596   \n",
       "7   20  0.002  0.01    100  1.050594  0.805462     0.029725      0.033028   \n",
       "9   20  0.002  0.02    100  1.036174  0.797176     0.029358      0.029908   \n",
       "8   20  0.002  0.02     50  1.002354  0.776929     0.027156      0.026422   \n",
       "6   20  0.002  0.01     50  1.012798  0.787951     0.026055      0.026606   \n",
       "16  20  0.005  0.05     50  1.014708  0.782444     0.026055      0.026239   \n",
       "1   20  0.001  0.01    100  1.006830  0.777819     0.024587      0.024587   \n",
       "\n",
       "    recall@5  recall@10    ndcg@5   ndcg@10  \n",
       "12  0.007946   0.015293  0.053938  0.052832  \n",
       "13  0.006178   0.014648  0.052709  0.052605  \n",
       "14  0.005136   0.012424  0.042539  0.047462  \n",
       "15  0.004887   0.009958  0.037251  0.037062  \n",
       "7   0.004815   0.009857  0.031269  0.033333  \n",
       "9   0.003591   0.007624  0.030600  0.030420  \n",
       "8   0.004231   0.007927  0.028546  0.027720  \n",
       "6   0.003725   0.006784  0.027523  0.027604  \n",
       "16  0.004376   0.008221  0.025383  0.025994  \n",
       "1   0.003302   0.007260  0.025681  0.025529  "
      ]
     },
     "metadata": {},
     "output_type": "display_data"
    }
   ],
   "source": [
    "from tqdm.notebook import tqdm\n",
    "from sklearn.metrics import mean_squared_error, mean_absolute_error\n",
    "\n",
    "# Main Experiment Setup\n",
    "K_values = [20, 50, 100]\n",
    "alpha_values = [0.001, 0.002, 0.005]\n",
    "beta_values = [0.01, 0.02, 0.05]\n",
    "step_values = [50, 100]\n",
    "k_list = [5, 10]\n",
    "\n",
    "results = []\n",
    "\n",
    "hyperparams = [\n",
    "    (K, alpha, beta, steps)\n",
    "    for K in K_values\n",
    "    for alpha in alpha_values\n",
    "    for beta in beta_values\n",
    "    for steps in step_values\n",
    "]\n",
    "\n",
    "for K, alpha, beta, steps in tqdm(hyperparams, desc=\"Hyperparameter Search\", ncols=120):\n",
    "    # --- Train the model ---\n",
    "    R_pred = matrix_factorization(R_train, K=K, steps=steps, alpha=alpha, beta=beta)\n",
    "\n",
    "    # --- Initialize metric storage ---\n",
    "    metrics = {k: {'precision': [], 'recall': [], 'ndcg': []} for k in k_list}\n",
    "    true_vals = []\n",
    "    pred_vals = []\n",
    "\n",
    "    # --- Evaluate for each user ---\n",
    "    for user in tqdm(range(R_test.shape[0]), desc=\"Evaluating users\", leave=False, dynamic_ncols=True):\n",
    "        train_items = set(np.where(R_train[user, :] > 0)[0])\n",
    "        test_items = set(np.where(R_test[user, :] > 0)[0])\n",
    "        if not test_items:\n",
    "            continue\n",
    "\n",
    "        # Collect true and predicted values for RMSE/MAE\n",
    "        for i in test_items:\n",
    "            true_vals.append(R_test[user, i])\n",
    "            pred_vals.append(R_pred[user, i])\n",
    "            \n",
    "        # Get ranking of items by predicted score (excluding already rated items)\n",
    "        ranked_items = [i for i in np.argsort(R_pred[user, :])[::-1] if i not in train_items]\n",
    "\n",
    "        # Compute metrics for each K\n",
    "        for Kval in k_list:\n",
    "            metrics[Kval]['precision'].append(precision_at_k(ranked_items, test_items, Kval))\n",
    "            metrics[Kval]['recall'].append(recall_at_k(ranked_items, test_items, Kval))\n",
    "            metrics[Kval]['ndcg'].append(ndcg_at_k(ranked_items, test_items, Kval))\n",
    "\n",
    "        # --- Compute RMSE and MAE ---\n",
    "        rmse = np.sqrt(mean_squared_error(true_vals, pred_vals))\n",
    "        mae = mean_absolute_error(true_vals, pred_vals)\n",
    "\n",
    "    # --- Aggregate results ---\n",
    "    results.append({\n",
    "        'K': K, 'alpha': alpha, 'beta': beta, 'steps': steps,\n",
    "        'rmse': rmse,\n",
    "        'mae': mae,\n",
    "        **{f'precision@{k}': np.mean(metrics[k]['precision']) for k in k_list},\n",
    "        **{f'recall@{k}': np.mean(metrics[k]['recall']) for k in k_list},\n",
    "        **{f'ndcg@{k}': np.mean(metrics[k]['ndcg']) for k in k_list},\n",
    "    })\n",
    "\n",
    "\n",
    "# --- Display top results sorted by NDCG@10 ---\n",
    "results_df = pd.DataFrame(results).sort_values('ndcg@10', ascending=False)\n",
    "display(results_df.head(10))"
   ]
  },
  {
   "cell_type": "code",
   "execution_count": 14,
   "id": "dc0d3d46",
   "metadata": {},
   "outputs": [
    {
     "name": "stdout",
     "output_type": "stream",
     "text": [
      "Final MF model trained with best hyperparameters: {'K': 20, 'steps': 50, 'alpha': 0.005, 'beta': 0.01}\n"
     ]
    }
   ],
   "source": [
    "# --- Train final Matrix Factorization model using best hyperparameters ---\n",
    "best_row = results_df.iloc[0]\n",
    "best_params = {\n",
    "    'K': int(best_row['K']),\n",
    "    'steps': int(best_row['steps']),\n",
    "    'alpha': float(best_row['alpha']),\n",
    "    'beta': float(best_row['beta'])\n",
    "}\n",
    "R_pred = matrix_factorization(\n",
    "    R_train,\n",
    "    K=best_params['K'],\n",
    "    steps=best_params['steps'],\n",
    "    alpha=best_params['alpha'],\n",
    "    beta=best_params['beta']\n",
    ")\n",
    "print(\"Final MF model trained with best hyperparameters:\", best_params)"
   ]
  },
  {
   "cell_type": "code",
   "execution_count": 18,
   "id": "5d66ed09",
   "metadata": {},
   "outputs": [
    {
     "name": "stdout",
     "output_type": "stream",
     "text": [
      "\n",
      "=== Top 10 Recommended Movies for User 1 ===\n",
      "1. Mr. Smith Goes to Washington (1939)\n",
      "2. Men in Black (1997)\n",
      "3. Leaving Las Vegas (1995)\n",
      "4. Mrs. Brown (Her Majesty, Mrs. Brown) (1997)\n",
      "5. In the Name of the Father (1993)\n",
      "6. Close Shave, A (1995)\n",
      "7. Birds, The (1963)\n",
      "8. Short Cuts (1993)\n",
      "9. Dr. Strangelove or: How I Learned to Stop Worrying and Love the Bomb (1963)\n",
      "10. Great Escape, The (1963)\n",
      "\n",
      "--- Evaluation Metrics for User 1 ---\n",
      "precision@5: 0.4000\n",
      "recall@5: 0.0392\n",
      "ndcg@5: 0.5531\n",
      "precision@10: 0.2000\n",
      "recall@10: 0.0392\n",
      "ndcg@10: 0.3590\n"
     ]
    }
   ],
   "source": [
    "# --- Recommend Top-N items for a single user (return names) ---\n",
    "def recommend_for_user(R_pred, user_index, train_df, movies_df, N=10):\n",
    "    \"\"\"Return top-N recommended movie names for a given user.\"\"\"\n",
    "    rated_items = set(train_df[train_df['user_id'] == user_index + 1]['item_id'].values)\n",
    "    scores = R_pred[user_index]\n",
    "\n",
    "    unrated_indices = [i for i in range(len(scores)) if (i + 1) not in rated_items]\n",
    "    top_indices = sorted(unrated_indices, key=lambda x: scores[x], reverse=True)[:N]\n",
    "\n",
    "    top_item_ids = [i + 1 for i in top_indices]  # convert to 1-indexed IDs\n",
    "    top_names = movies_df[movies_df['movie_id'].isin(top_item_ids)]['title'].tolist()\n",
    "    return top_names\n",
    "\n",
    "# --- Evaluate recommendation metrics (still uses IDs for calculation) ---\n",
    "def evaluate_user(R_pred, user_index, train_df, test_df, k_list=[5, 10]):\n",
    "    relevant_items = test_df[test_df['user_id'] == user_index + 1]['item_id'].values\n",
    "    recommended_items = recommend_for_user_ids(R_pred, user_index, train_df, N=max(k_list))  # return IDs for metrics\n",
    "\n",
    "    results = {}\n",
    "    for k in k_list:\n",
    "        results[f'precision@{k}'] = precision_at_k(recommended_items, relevant_items, k)\n",
    "        results[f'recall@{k}'] = recall_at_k(recommended_items, relevant_items, k)\n",
    "        results[f'ndcg@{k}'] = ndcg_at_k(recommended_items, relevant_items, k)\n",
    "    return results\n",
    "\n",
    "# Helper function to return IDs for evaluation\n",
    "def recommend_for_user_ids(R_pred, user_index, train_df, N=10):\n",
    "    rated_items = set(train_df[train_df['user_id'] == user_index + 1]['item_id'].values)\n",
    "    scores = R_pred[user_index]\n",
    "\n",
    "    unrated_indices = [i for i in range(len(scores)) if (i + 1) not in rated_items]\n",
    "    top_indices = sorted(unrated_indices, key=lambda x: scores[x], reverse=True)[:N]\n",
    "    return [i + 1 for i in top_indices]\n",
    "\n",
    "# --- Example Usage ---\n",
    "user_index = 0  # corresponds to user_id=1\n",
    "top_movie_names = recommend_for_user(R_pred, user_index, train, u_item, N=10)\n",
    "metrics = evaluate_user(R_pred, user_index, train, test, k_list=[5, 10])\n",
    "\n",
    "print(f\"\\n=== Top 10 Recommended Movies for User {user_index + 1} ===\")\n",
    "for rank, movie in enumerate(top_movie_names, 1):\n",
    "    print(f\"{rank}. {movie}\")\n",
    "\n",
    "print(f\"\\n--- Evaluation Metrics for User {user_index + 1} ---\")\n",
    "for metric_name, metric_value in metrics.items():\n",
    "    print(f\"{metric_name}: {metric_value:.4f}\")\n"
   ]
  }
 ],
 "metadata": {
  "kernelspec": {
   "display_name": "Python 3",
   "language": "python",
   "name": "python3"
  },
  "language_info": {
   "codemirror_mode": {
    "name": "ipython",
    "version": 3
   },
   "file_extension": ".py",
   "mimetype": "text/x-python",
   "name": "python",
   "nbconvert_exporter": "python",
   "pygments_lexer": "ipython3",
   "version": "3.12.10"
  }
 },
 "nbformat": 4,
 "nbformat_minor": 5
}
