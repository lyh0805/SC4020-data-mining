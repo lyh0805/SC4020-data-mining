{
 "cells": [
  {
   "cell_type": "markdown",
   "id": "546cbb80",
   "metadata": {},
   "source": [
    "## 🔎 Overall Summary for Collaborative Filtering\n"
   ]
  },
  {
   "cell_type": "code",
   "execution_count": 3,
   "id": "c345da55",
   "metadata": {},
   "outputs": [
    {
     "name": "stdout",
     "output_type": "stream",
     "text": [
      "| Dataset   | Best Config                 | Key Metric         | Key Value         |\n",
      "|:----------|:----------------------------|:-------------------|:------------------|\n",
      "| MovieLens | k = 20, similarity = cosine | Precision@10, RMSE | 0.0508, 1.3078    |\n",
      "| Steam     | k = 30, similarity = cosine | Precision@10, RMSE | 0.04881, 1.760167 |\n"
     ]
    }
   ],
   "source": [
    "summary_data = [\n",
    "    {\n",
    "        'Dataset': 'MovieLens',\n",
    "        'Best Config': 'k = 20, similarity = cosine',\n",
    "        'Key Metric': 'Precision@10, RMSE',\n",
    "        'Key Value': '0.0508, 1.3078'\n",
    "    },\n",
    "    {\n",
    "        'Dataset': 'Steam',\n",
    "        'Best Config': 'k = 30, similarity = cosine',\n",
    "        'Key Metric': 'Precision@10, RMSE',\n",
    "        'Key Value': '0.04881, 1.760167'\n",
    "    }\n",
    "]\n",
    "\n",
    "# Convert to DataFrame\n",
    "summary_df = pd.DataFrame(summary_data)\n",
    "\n",
    "# Display as Markdown-style table\n",
    "print(summary_df.to_markdown(index=False))"
   ]
  }
 ],
 "metadata": {
  "kernelspec": {
   "display_name": ".venv (3.7.8)",
   "language": "python",
   "name": "python3"
  },
  "language_info": {
   "codemirror_mode": {
    "name": "ipython",
    "version": 3
   },
   "file_extension": ".py",
   "mimetype": "text/x-python",
   "name": "python",
   "nbconvert_exporter": "python",
   "pygments_lexer": "ipython3",
   "version": "3.7.8"
  }
 },
 "nbformat": 4,
 "nbformat_minor": 5
}
